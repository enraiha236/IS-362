{
 "cells": [
  {
   "cell_type": "markdown",
   "id": "cd1fe9f6",
   "metadata": {},
   "source": [
    "# Understanding the `zip()` Function in Python\n",
    "\n",
    "One of the data structures that I have issues with the `zip` function.\n",
    "The `zip()` function combines two or more iterables (such as lists or tuples) into pairs.  \n",
    "This is useful when pairing up related data from different sources."
   ]
  },
  {
   "cell_type": "code",
   "execution_count": 15,
   "id": "875129e4",
   "metadata": {},
   "outputs": [
    {
     "name": "stdout",
     "output_type": "stream",
     "text": [
      "[('John', 30), ('Bob', 40), ('Doe', 20)]\n"
     ]
    }
   ],
   "source": [
    "# Basic use of `zip()`\n",
    "names = [\"John\", \"Bob\", \"Doe\"]\n",
    "ages = [30, 40, 20]\n",
    "\n",
    "zipped = zip(names, ages)\n",
    "print(list(zipped))"
   ]
  },
  {
   "cell_type": "markdown",
   "id": "9e85e9c9",
   "metadata": {},
   "source": [
    "**Explanation:**  \n",
    "The `zip()` function took the two lists (`names` and `ages`) and combined them element by element into pairs.  \n",
    "The result is a list of tuples: `[(\"John\", 30), (\"Bob\", 40), (\"Doe\", 20)]`."
   ]
  },
  {
   "cell_type": "code",
   "execution_count": 16,
   "id": "feb0d24b",
   "metadata": {},
   "outputs": [
    {
     "name": "stdout",
     "output_type": "stream",
     "text": [
      "[('John', 30), ('Bob', 40)]\n"
     ]
    }
   ],
   "source": [
    "# `zip()` with Different Lengths\n",
    "names = [\"John\", \"Bob\", \"Doe\"]\n",
    "shorter_ages = [30, 40]\n",
    "short_zip = zip(names, shorter_ages)\n",
    "print(list(short_zip))"
   ]
  },
  {
   "cell_type": "markdown",
   "id": "119d2806",
   "metadata": {},
   "source": [
    "**Explanation:**  \n",
    "The 'zip()' function stops as soon as the shortest iterable is exhausted. This prevents errors when combining data of unequal lengths."
   ]
  },
  {
   "cell_type": "code",
   "execution_count": 17,
   "id": "7a5288d3",
   "metadata": {},
   "outputs": [
    {
     "name": "stdout",
     "output_type": "stream",
     "text": [
      "John is 30 years old.\n",
      "Bob is 40 years old.\n",
      "Doe is 20 years old.\n"
     ]
    }
   ],
   "source": [
    "# Use Example 1 : Iterating with `zip()`\n",
    "for name, age in zip(names, ages):\n",
    "    print(f\"{name} is {age} years old.\")"
   ]
  },
  {
   "cell_type": "markdown",
   "id": "de10273a",
   "metadata": {},
   "source": [
    "**Explanation:**  \n",
    "By looping through both lists at the same time, `zip()` pairs each name with the matching age.  "
   ]
  },
  {
   "cell_type": "code",
   "execution_count": 18,
   "id": "c1b8f763",
   "metadata": {},
   "outputs": [
    {
     "name": "stdout",
     "output_type": "stream",
     "text": [
      "{'USA': 'Washington D.C.', 'Japan': 'Tokyo', 'France': 'Paris'}\n"
     ]
    }
   ],
   "source": [
    "# Use Example 2: Creating a Dictionary with 'zip()'\n",
    "countries = ['USA', 'Japan', 'France']\n",
    "capitals = ['Washington D.C.', 'Tokyo', 'Paris']\n",
    "country_dict = dict(zip(countries, capitals))\n",
    "print(country_dict)"
   ]
  },
  {
   "cell_type": "markdown",
   "id": "79ec8e94",
   "metadata": {},
   "source": [
    "**Explanation:**  \n",
    "The `zip()` function can be used to create a dictionary from a list of keys and a list of values."
   ]
  },
  {
   "cell_type": "code",
   "execution_count": 19,
   "id": "ed6e204e",
   "metadata": {},
   "outputs": [
    {
     "name": "stdout",
     "output_type": "stream",
     "text": [
      "Unzipped Names: ['John', 'Bob', 'Doe']\n",
      "Unzipped Scores: [30, 40, 20]\n"
     ]
    }
   ],
   "source": [
    "#Unzipping tuples\n",
    "combined_data = [('John', 30), ('Bob', 40), ('Doe', 20)]\n",
    "unzipped_names, unzipped_ages = zip(*combined_data)\n",
    "print(\"Unzipped Names:\", list(unzipped_names))\n",
    "print(\"Unzipped Scores:\", list(unzipped_ages))"
   ]
  },
  {
   "cell_type": "markdown",
   "id": "d0755794",
   "metadata": {},
   "source": [
    "**Explanation:**\n",
    "The * operator unpacks the combined_data list so that zip() receives the tuples."
   ]
  }
 ],
 "metadata": {
  "kernelspec": {
   "display_name": "Python 3",
   "language": "python",
   "name": "python3"
  },
  "language_info": {
   "codemirror_mode": {
    "name": "ipython",
    "version": 3
   },
   "file_extension": ".py",
   "mimetype": "text/x-python",
   "name": "python",
   "nbconvert_exporter": "python",
   "pygments_lexer": "ipython3",
   "version": "3.12.10"
  }
 },
 "nbformat": 4,
 "nbformat_minor": 5
}
