{
 "cells": [
  {
   "cell_type": "markdown",
   "id": "c366dfcd",
   "metadata": {},
   "source": [
    "# Week 5 Assignment IS 362\n",
    "\n",
    "This notebook answers the following three questions:\n",
    "\n",
    "1. What is the northernmost airport in the United States?\n",
    "2. What is the easternmost airport in the United States?\n",
    "3. On February 12th, 2013, which New York area airport had the windiest weather?"
   ]
  },
  {
   "cell_type": "code",
   "execution_count": 1,
   "id": "fdf11378",
   "metadata": {},
   "outputs": [
    {
     "name": "stdout",
     "output_type": "stream",
     "text": [
      "   faa                           name        lat        lon   alt  tz dst  \\\n",
      "0  04G              Lansdowne Airport  41.130472 -80.619583  1044  -5   A   \n",
      "1  06A  Moton Field Municipal Airport  32.460572 -85.680028   264  -6   A   \n",
      "2  06C            Schaumburg Regional  41.989341 -88.101243   801  -6   A   \n",
      "3  06N                Randall Airport  41.431912 -74.391561   523  -5   A   \n",
      "4  09J          Jekyll Island Airport  31.074472 -81.427778    11  -5   A   \n",
      "\n",
      "              tzone  \n",
      "0  America/New_York  \n",
      "1   America/Chicago  \n",
      "2   America/Chicago  \n",
      "3  America/New_York  \n",
      "4  America/New_York  \n",
      "  origin  year  month  day  hour   temp   dewp  humid  wind_dir  wind_speed  \\\n",
      "0    EWR  2013      1    1     1  39.02  26.06  59.37     270.0    10.35702   \n",
      "1    EWR  2013      1    1     2  39.02  26.96  61.63     250.0     8.05546   \n",
      "2    EWR  2013      1    1     3  39.02  28.04  64.43     240.0    11.50780   \n",
      "3    EWR  2013      1    1     4  39.92  28.04  62.21     250.0    12.65858   \n",
      "4    EWR  2013      1    1     5  39.02  28.04  64.43     260.0    12.65858   \n",
      "\n",
      "   wind_gust  precip  pressure  visib             time_hour  \n",
      "0        NaN     0.0    1012.0   10.0  2013-01-01T06:00:00Z  \n",
      "1        NaN     0.0    1012.3   10.0  2013-01-01T07:00:00Z  \n",
      "2        NaN     0.0    1012.5   10.0  2013-01-01T08:00:00Z  \n",
      "3        NaN     0.0    1012.2   10.0  2013-01-01T09:00:00Z  \n",
      "4        NaN     0.0    1011.9   10.0  2013-01-01T10:00:00Z  \n"
     ]
    }
   ],
   "source": [
    "import pandas as pd\n",
    "\n",
    "airports_url = \"https://raw.githubusercontent.com/tidyverse/nycflights13/master/data-raw/airports.csv\"\n",
    "weather_url = \"https://raw.githubusercontent.com/tidyverse/nycflights13/master/data-raw/weather.csv\"\n",
    "\n",
    "airports = pd.read_csv(airports_url)\n",
    "weather = pd.read_csv(weather_url)\n",
    "\n",
    "# show the first few rows of each to confirm load\n",
    "print(airports.head())\n",
    "print(weather.head())"
   ]
  },
  {
   "cell_type": "markdown",
   "id": "69ac10fc",
   "metadata": {},
   "source": [
    "# Question 1: What is the northernmost airport in the United States?"
   ]
  },
  {
   "cell_type": "code",
   "execution_count": 2,
   "id": "f9ffcd13",
   "metadata": {},
   "outputs": [
    {
     "name": "stdout",
     "output_type": "stream",
     "text": [
      "                                           name        lat         lon\n",
      "417                     Dillant Hopkins Airport  72.270833   42.898333\n",
      "230                  Wiley Post Will Rogers Mem  71.285446 -156.766003\n",
      "110                          Wainwright Airport  70.638056 -159.994722\n",
      "708                               Wainwright As  70.613378 -159.860350\n",
      "152  Atqasuk Edward Burnell Sr Memorial Airport  70.467300 -157.436000\n"
     ]
    }
   ],
   "source": [
    "# find the five northernmost airports by latitude\n",
    "# sort by latitude in descending order to get highest latitudes first\n",
    "top5_north = airports.sort_values(by=\"lat\", ascending=False).head(5)\n",
    "\n",
    "# display the top 5 northernmost airports with lat lon\n",
    "print(top5_north[['name', 'lat', 'lon']])"
   ]
  },
  {
   "cell_type": "markdown",
   "id": "fea8f504",
   "metadata": {},
   "source": [
    "Sorting the data by descending latitude displays Dillant Hopkins Airport with the highest latitude. However, a quick Google search shows that Dillant Hopkins Airport is in New Hampshire. Its coordinates are reversed."
   ]
  },
  {
   "cell_type": "code",
   "execution_count": 3,
   "id": "b2a974e5",
   "metadata": {},
   "outputs": [
    {
     "name": "stdout",
     "output_type": "stream",
     "text": [
      "name    Dillant Hopkins Airport\n",
      "lat                   42.898333\n",
      "lon                  -72.270833\n",
      "Name: 417, dtype: object\n"
     ]
    }
   ],
   "source": [
    "airports.loc[417, 'lat'] = 42.898333\n",
    "airports.loc[417, 'lon'] = -72.270833\n",
    "print (airports.loc[417][['name', 'lat', 'lon']])"
   ]
  },
  {
   "cell_type": "markdown",
   "id": "019b8527",
   "metadata": {},
   "source": [
    "The latitude and longitude vales for Dillant Hopkins Airport has been corrected using 'pandas.loc'."
   ]
  },
  {
   "cell_type": "code",
   "execution_count": 4,
   "id": "ec910f8f",
   "metadata": {},
   "outputs": [
    {
     "name": "stdout",
     "output_type": "stream",
     "text": [
      "                                            name        lat         lon\n",
      "230                   Wiley Post Will Rogers Mem  71.285446 -156.766003\n",
      "110                           Wainwright Airport  70.638056 -159.994722\n",
      "708                                Wainwright As  70.613378 -159.860350\n",
      "152   Atqasuk Edward Burnell Sr Memorial Airport  70.467300 -157.436000\n",
      "1363                        Ugnu-Kuparuk Airport  70.330833 -149.597500\n"
     ]
    }
   ],
   "source": [
    "top5_north = airports.sort_values(by=\"lat\", ascending=False).head(5)\n",
    "print(top5_north[['name', 'lat', 'lon']])"
   ]
  },
  {
   "cell_type": "markdown",
   "id": "8dfbf5f0",
   "metadata": {},
   "source": [
    "With the dataset corrected, the analysis now shows the correct 5 northernmost airports.\n",
    "\n",
    "The answer to question 1 is **Wiley Post Will Rogers Memorial Airport** in Alaska, with a latitude of 71.29."
   ]
  },
  {
   "cell_type": "markdown",
   "id": "3b71a46a",
   "metadata": {},
   "source": [
    "# Question 2: What is the easternmost airport in the United States?"
   ]
  },
  {
   "cell_type": "code",
   "execution_count": 5,
   "id": "21119aa3",
   "metadata": {},
   "outputs": [
    {
     "data": {
      "text/html": [
       "<div>\n",
       "<style scoped>\n",
       "    .dataframe tbody tr th:only-of-type {\n",
       "        vertical-align: middle;\n",
       "    }\n",
       "\n",
       "    .dataframe tbody tr th {\n",
       "        vertical-align: top;\n",
       "    }\n",
       "\n",
       "    .dataframe thead th {\n",
       "        text-align: right;\n",
       "    }\n",
       "</style>\n",
       "<table border=\"1\" class=\"dataframe\">\n",
       "  <thead>\n",
       "    <tr style=\"text-align: right;\">\n",
       "      <th></th>\n",
       "      <th>faa</th>\n",
       "      <th>name</th>\n",
       "      <th>lat</th>\n",
       "      <th>lon</th>\n",
       "    </tr>\n",
       "  </thead>\n",
       "  <tbody>\n",
       "    <tr>\n",
       "      <th>444</th>\n",
       "      <td>EPM</td>\n",
       "      <td>Eastport Municipal Airport</td>\n",
       "      <td>44.910111</td>\n",
       "      <td>-67.012694</td>\n",
       "    </tr>\n",
       "    <tr>\n",
       "      <th>624</th>\n",
       "      <td>HUL</td>\n",
       "      <td>Houlton Intl</td>\n",
       "      <td>46.123083</td>\n",
       "      <td>-67.792056</td>\n",
       "    </tr>\n",
       "    <tr>\n",
       "      <th>259</th>\n",
       "      <td>CAR</td>\n",
       "      <td>Caribou Muni</td>\n",
       "      <td>46.871500</td>\n",
       "      <td>-68.017917</td>\n",
       "    </tr>\n",
       "    <tr>\n",
       "      <th>1101</th>\n",
       "      <td>PQI</td>\n",
       "      <td>Northern Maine Rgnl At Presque Isle</td>\n",
       "      <td>46.688958</td>\n",
       "      <td>-68.044797</td>\n",
       "    </tr>\n",
       "    <tr>\n",
       "      <th>1398</th>\n",
       "      <td>WFK</td>\n",
       "      <td>Northern Aroostook Regional Airport</td>\n",
       "      <td>47.285556</td>\n",
       "      <td>-68.312778</td>\n",
       "    </tr>\n",
       "  </tbody>\n",
       "</table>\n",
       "</div>"
      ],
      "text/plain": [
       "      faa                                 name        lat        lon\n",
       "444   EPM           Eastport Municipal Airport  44.910111 -67.012694\n",
       "624   HUL                         Houlton Intl  46.123083 -67.792056\n",
       "259   CAR                         Caribou Muni  46.871500 -68.017917\n",
       "1101  PQI  Northern Maine Rgnl At Presque Isle  46.688958 -68.044797\n",
       "1398  WFK  Northern Aroostook Regional Airport  47.285556 -68.312778"
      ]
     },
     "execution_count": 5,
     "metadata": {},
     "output_type": "execute_result"
    }
   ],
   "source": [
    "#filter out non-negative numbers\n",
    "airports_clean = airports[airports['lon']<0]\n",
    "# find the five easternmost airports by longitude\n",
    "top5_east = airports_clean.sort_values(by=\"lon\", ascending=False).head(5)\n",
    "\n",
    "# display the top 5 easternmost airports with lat lon\n",
    "top5_east[[\"faa\", \"name\", \"lat\", \"lon\"]]\n"
   ]
  },
  {
   "cell_type": "markdown",
   "id": "1d7774e8",
   "metadata": {},
   "source": [
    "After filtering out incorrect longitude values (such as airports missing negative signs), the five easternmost airports in the United States were identified by sorting for the largest negative longitude values.  \n",
    "\n",
    "The answer to question 2 is **Eastport Municipal Airport (EPM)** in Maine, with a longitude of -67.01. "
   ]
  },
  {
   "cell_type": "markdown",
   "id": "7280c8a5",
   "metadata": {},
   "source": [
    "# Question 3: On February 12th, 2013, which New York area airport had the windiest weather?"
   ]
  },
  {
   "cell_type": "code",
   "execution_count": 6,
   "id": "a6c24254",
   "metadata": {},
   "outputs": [
    {
     "name": "stdout",
     "output_type": "stream",
     "text": [
      "Index(['origin', 'year', 'month', 'day', 'hour', 'temp', 'dewp', 'humid',\n",
      "       'wind_dir', 'wind_speed', 'wind_gust', 'precip', 'pressure', 'visib',\n",
      "       'time_hour'],\n",
      "      dtype='object')\n"
     ]
    }
   ],
   "source": [
    "# Checking the columns in the weather.csv\n",
    "print (weather.columns)\n"
   ]
  },
  {
   "cell_type": "code",
   "execution_count": 7,
   "id": "6a0a4168",
   "metadata": {},
   "outputs": [
    {
     "name": "stdout",
     "output_type": "stream",
     "text": [
      "     origin  year  month  day  hour   temp   dewp  humid  wind_dir  \\\n",
      "1006    EWR  2013      2   12     0  39.92  39.02  96.55     240.0   \n",
      "1007    EWR  2013      2   12     1  39.92  37.94  92.56     250.0   \n",
      "1008    EWR  2013      2   12     2  39.92  28.04  62.21     270.0   \n",
      "1009    EWR  2013      2   12     3  39.02  26.96  61.63     260.0   \n",
      "1010    EWR  2013      2   12     4  39.02  26.96  64.29     280.0   \n",
      "\n",
      "      wind_speed  wind_gust  precip  pressure  visib             time_hour  \n",
      "1006     6.90468        NaN     0.0    1006.9   10.0  2013-02-12T05:00:00Z  \n",
      "1007     9.20624        NaN     0.0    1007.2   10.0  2013-02-12T06:00:00Z  \n",
      "1008    20.71404   25.31716     0.0    1007.8   10.0  2013-02-12T07:00:00Z  \n",
      "1009  1048.36058        NaN     0.0    1008.3   10.0  2013-02-12T08:00:00Z  \n",
      "1010    12.65858        NaN     0.0    1008.8   10.0  2013-02-12T09:00:00Z  \n",
      "Airports:  ['EWR' 'JFK' 'LGA']\n"
     ]
    }
   ],
   "source": [
    "# looking only at the weather on Feb 12, 2013\n",
    "w = weather[(weather.year == 2013) & (weather.month == 2) & (weather.day == 12)].copy()\n",
    "print (w.head())\n",
    "\n",
    "# checking which airports have data on that date\n",
    "print (\"Airports: \", w[\"origin\"].unique())"
   ]
  },
  {
   "cell_type": "code",
   "execution_count": 8,
   "id": "3ebf72dc",
   "metadata": {},
   "outputs": [
    {
     "data": {
      "text/html": [
       "<div>\n",
       "<style scoped>\n",
       "    .dataframe tbody tr th:only-of-type {\n",
       "        vertical-align: middle;\n",
       "    }\n",
       "\n",
       "    .dataframe tbody tr th {\n",
       "        vertical-align: top;\n",
       "    }\n",
       "\n",
       "    .dataframe thead th {\n",
       "        text-align: right;\n",
       "    }\n",
       "</style>\n",
       "<table border=\"1\" class=\"dataframe\">\n",
       "  <thead>\n",
       "    <tr style=\"text-align: right;\">\n",
       "      <th></th>\n",
       "      <th>origin</th>\n",
       "      <th>year</th>\n",
       "      <th>month</th>\n",
       "      <th>day</th>\n",
       "      <th>hour</th>\n",
       "      <th>temp</th>\n",
       "      <th>dewp</th>\n",
       "      <th>humid</th>\n",
       "      <th>wind_dir</th>\n",
       "      <th>wind_speed</th>\n",
       "      <th>wind_gust</th>\n",
       "      <th>precip</th>\n",
       "      <th>pressure</th>\n",
       "      <th>visib</th>\n",
       "      <th>time_hour</th>\n",
       "    </tr>\n",
       "  </thead>\n",
       "  <tbody>\n",
       "  </tbody>\n",
       "</table>\n",
       "</div>"
      ],
      "text/plain": [
       "Empty DataFrame\n",
       "Columns: [origin, year, month, day, hour, temp, dewp, humid, wind_dir, wind_speed, wind_gust, precip, pressure, visib, time_hour]\n",
       "Index: []"
      ]
     },
     "execution_count": 8,
     "metadata": {},
     "output_type": "execute_result"
    }
   ],
   "source": [
    "# check for duplicate entries for each time and place\n",
    "dup_counts = w.duplicated(subset=[\"year\",\"month\",\"day\",\"hour\",\"origin\"], keep=False)\n",
    "duplicates = w[dup_counts].sort_values([\"origin\",\"year\",\"month\",\"day\",\"hour\"])\n",
    "duplicates.head(20)\n"
   ]
  },
  {
   "cell_type": "markdown",
   "id": "9e2fd5d3",
   "metadata": {},
   "source": [
    "No duplicates were found."
   ]
  },
  {
   "cell_type": "code",
   "execution_count": 9,
   "id": "e4e4a753",
   "metadata": {},
   "outputs": [
    {
     "name": "stdout",
     "output_type": "stream",
     "text": [
      "  origin  max_wind_speed  mean_wind_speed  median_wind_speed  max_wind_gust  \\\n",
      "0    EWR      1048.36058         56.38822           13.80936       31.07106   \n",
      "1    JFK        20.71404         14.38475           14.96014       27.61872   \n",
      "2    LGA        23.01560         14.96014           14.96014       31.07106   \n",
      "\n",
      "   obs_count  \n",
      "0         24  \n",
      "1         24  \n",
      "2         24  \n"
     ]
    }
   ],
   "source": [
    "# creating a summary per airport containing maximum observed wind_speed, maximum wind_gust if present, mean wind_speed and count of observations\n",
    "summary = w.groupby(\"origin\").agg(\n",
    "    max_wind_speed = (\"wind_speed\", \"max\"),\n",
    "    mean_wind_speed = (\"wind_speed\", \"mean\"),\n",
    "    median_wind_speed = (\"wind_speed\", \"median\"),\n",
    "    max_wind_gust = (\"wind_gust\", \"max\"),\n",
    "    obs_count = (\"wind_speed\", \"count\")\n",
    ").reset_index()\n",
    "print (summary)"
   ]
  },
  {
   "cell_type": "markdown",
   "id": "18f873cf",
   "metadata": {},
   "source": [
    "The summary shows wind speed observations for EWR, JFK, and LGA airports. While JFK and LGA have similar maximum, mean, and median values, EWR reports an extreme maximum wind speed of 1048.36, which is far above the mean and median values for the same airport. This indicates the presence of an outlier in the dataset that may have resulted from a recording or data entry error."
   ]
  },
  {
   "cell_type": "code",
   "execution_count": 10,
   "id": "bc2fe2c5",
   "metadata": {},
   "outputs": [
    {
     "name": "stdout",
     "output_type": "stream",
     "text": [
      "  origin  max_wind_speed  mean_wind_speed  median_wind_speed  max_wind_gust  \\\n",
      "0    EWR        21.86482        13.258987           13.80936       31.07106   \n",
      "1    JFK        20.71404        14.384750           14.96014       27.61872   \n",
      "2    LGA        23.01560        14.960140           14.96014       31.07106   \n",
      "\n",
      "   obs_count  \n",
      "0         23  \n",
      "1         24  \n",
      "2         24  \n"
     ]
    }
   ],
   "source": [
    "# remove outlier wind speeds greater than 100\n",
    "w_clean = w[w[\"wind_speed\"] < 100].copy()\n",
    "\n",
    "# recompute summary without the outlier\n",
    "summary_clean = w_clean.groupby(\"origin\").agg(\n",
    "    max_wind_speed=(\"wind_speed\", \"max\"),\n",
    "    mean_wind_speed=(\"wind_speed\", \"mean\"),\n",
    "    median_wind_speed=(\"wind_speed\", \"median\"),\n",
    "    max_wind_gust=(\"wind_gust\", \"max\"),\n",
    "    obs_count=(\"wind_speed\", \"count\")\n",
    ").reset_index()\n",
    "\n",
    "print(summary_clean)"
   ]
  },
  {
   "cell_type": "markdown",
   "id": "528ff22a",
   "metadata": {},
   "source": [
    "After removing the wind speed outlier, the summary now reflects consistent maximum, mean, and median wind speeds for all three New York area airports. This provides a more accurate view of the windiest conditions on February 12, 2013.\n",
    "\n",
    "The answer to question 3 is LaGuardia Airport as it had the highest maximum wind speed on February 13, 2013."
   ]
  }
 ],
 "metadata": {
  "kernelspec": {
   "display_name": "Python 3",
   "language": "python",
   "name": "python3"
  },
  "language_info": {
   "codemirror_mode": {
    "name": "ipython",
    "version": 3
   },
   "file_extension": ".py",
   "mimetype": "text/x-python",
   "name": "python",
   "nbconvert_exporter": "python",
   "pygments_lexer": "ipython3",
   "version": "3.12.10"
  }
 },
 "nbformat": 4,
 "nbformat_minor": 5
}
