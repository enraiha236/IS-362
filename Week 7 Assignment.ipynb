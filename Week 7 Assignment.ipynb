{
 "cells": [
  {
   "cell_type": "markdown",
   "id": "79ae324d",
   "metadata": {},
   "source": [
    "## Movie Ratings Analysis\n",
    "\n",
    "This notebook analyzes movie ratings from several users. Each person rated a selection of popular movies on a scale from 1 to 5.\n",
    "We use pandas to clean the data, calculate averages, and explore how normalization and standardization affect the interpretation of ratings."
   ]
  },
  {
   "cell_type": "code",
   "execution_count": 138,
   "id": "b608dbaa",
   "metadata": {},
   "outputs": [
    {
     "name": "stdout",
     "output_type": "stream",
     "text": [
      "Original Data\n",
      "=======================================================================\n",
      "  Unnamed: 0  Demon Slayer  Kpop Demon Hunters  Avatar  Hamilton  Joker\n",
      "0        Ace             5                 4.0     NaN       3.0      5\n",
      "1   Brooklyn             4                 NaN     2.0       4.0      3\n",
      "2     Caesar             3                 5.0     4.0       5.0      4\n",
      "3       Doug             5                 3.0     5.0       NaN      2\n",
      "4      Edgar             4                 4.0     3.0       4.0      5\n"
     ]
    }
   ],
   "source": [
    "import pandas as pd\n",
    "import numpy as np\n",
    "\n",
    "df = pd.read_csv('Movie Ratings.csv')\n",
    "print (f\"Original Data\")\n",
    "print(\"=\" *71)\n",
    "print(df)"
   ]
  },
  {
   "cell_type": "code",
   "execution_count": 139,
   "id": "c2228157",
   "metadata": {},
   "outputs": [
    {
     "name": "stdout",
     "output_type": "stream",
     "text": [
      "Cleaned Data\n",
      "====================================================================\n",
      "          Demon Slayer  Kpop Demon Hunters  Avatar  Hamilton  Joker\n",
      "Name                                                               \n",
      "Ace                  5                 4.0     NaN       3.0      5\n",
      "Brooklyn             4                 NaN     2.0       4.0      3\n",
      "Caesar               3                 5.0     4.0       5.0      4\n",
      "Doug                 5                 3.0     5.0       NaN      2\n",
      "Edgar                4                 4.0     3.0       4.0      5\n"
     ]
    }
   ],
   "source": [
    "# Clean up the column names and set proper index\n",
    "df_clean = df.copy()\n",
    "df_clean.rename(columns={'Unnamed: 0': 'Name'}, inplace=True)\n",
    "df_clean.set_index('Name', inplace=True)\n",
    "\n",
    "# Clean up movie names (remove extra spaces)\n",
    "df_clean.columns = [col.strip() for col in df_clean.columns]\n",
    "\n",
    "# Store the cleaned dataframe for subsequent steps\n",
    "df = df_clean \n",
    "\n",
    "print (f\"Cleaned Data\")\n",
    "print(\"=\" *68)\n",
    "print(df)"
   ]
  },
  {
   "cell_type": "code",
   "execution_count": 140,
   "id": "e91ad28a",
   "metadata": {},
   "outputs": [
    {
     "name": "stdout",
     "output_type": "stream",
     "text": [
      "Average Rating per Name\n",
      "================================\n",
      "Ace: 4.25 (4 movies rated)\n",
      "Brooklyn: 3.25 (4 movies rated)\n",
      "Caesar: 4.20 (5 movies rated)\n",
      "Doug: 3.75 (4 movies rated)\n",
      "Edgar: 4.00 (5 movies rated)\n",
      "\n",
      "Average Rating per Movie\n",
      "=========================================\n",
      "Demon Slayer: 4.20 (5 people rated)\n",
      "Kpop Demon Hunters: 4.00 (4 people rated)\n",
      "Avatar: 3.50 (4 people rated)\n",
      "Hamilton: 4.00 (4 people rated)\n",
      "Joker: 3.80 (5 people rated)\n"
     ]
    }
   ],
   "source": [
    "# Average rating for each Name\n",
    "name_means = df.mean(axis=1)\n",
    "print(\"Average Rating per Name\")\n",
    "print(\"=\" *32)\n",
    "for name, avg_rating in name_means.items():\n",
    "    ratings_count = df.loc[name].count()\n",
    "    print(f\"{name}: {avg_rating:.2f} ({ratings_count} movies rated)\")\n",
    "\n",
    "# Average rating for each movie\n",
    "movie_means = df.mean(axis=0)\n",
    "print(\"\\nAverage Rating per Movie\")\n",
    "print(\"=\" *41)\n",
    "for movie, avg_rating in movie_means.items():\n",
    "    ratings_count = df[movie].count()\n",
    "    print(f\"{movie}: {avg_rating:.2f} ({ratings_count} people rated)\")"
   ]
  },
  {
   "cell_type": "markdown",
   "id": "1d2229c9",
   "metadata": {},
   "source": [
    "Each user’s average rating (how generous or strict they are overall).\n",
    "Each movie’s average rating (how well it was received).\n",
    "Missing values (movies a person didn’t rate) are automatically ignored by pandas."
   ]
  },
  {
   "cell_type": "code",
   "execution_count": 141,
   "id": "59cb5730",
   "metadata": {},
   "outputs": [
    {
     "name": "stdout",
     "output_type": "stream",
     "text": [
      "Normalized Ratings (0-1 scale)\n",
      "====================================================================\n",
      "          Demon Slayer  Kpop Demon Hunters  Avatar  Hamilton  Joker\n",
      "Name                                                               \n",
      "Ace                1.0               0.500     NaN       0.0    1.0\n",
      "Brooklyn           1.0                 NaN     0.0       1.0    0.5\n",
      "Caesar             0.0               1.000     0.5       1.0    0.5\n",
      "Doug               1.0               0.333     1.0       NaN    0.0\n",
      "Edgar              0.5               0.500     0.0       0.5    1.0\n"
     ]
    }
   ],
   "source": [
    "def normalize_name_ratings(name_ratings):\n",
    "    # Normalize ratings for a single Name to 0-1 scale\n",
    "    \n",
    "    min_rating = name_ratings.min()\n",
    "    max_rating = name_ratings.max()\n",
    "    \n",
    "    normalized = (name_ratings - min_rating) / (max_rating - min_rating)\n",
    "    return normalized\n",
    "\n",
    "# Apply normalization\n",
    "normalized_df = df.apply(normalize_name_ratings, axis=1)\n",
    "\n",
    "print(f\"Normalized Ratings (0-1 scale)\")\n",
    "print(\"=\" *68)\n",
    "print(normalized_df.round(3))\n",
    "\n",
    "# Calculate averages for normalized data\n",
    "norm_name_means = normalized_df.mean(axis=1)\n",
    "norm_movie_means = normalized_df.mean(axis=0)"
   ]
  },
  {
   "cell_type": "markdown",
   "id": "2c0795ea",
   "metadata": {},
   "source": [
    "Normalization rescales each user’s ratings so their lowest rating becomes 0 and their highest becomes 1.\n",
    "This transformation makes it possible to compare rating patterns between users, regardless of whether they tend to rate high or low."
   ]
  },
  {
   "cell_type": "code",
   "execution_count": 142,
   "id": "551b9c05",
   "metadata": {},
   "outputs": [
    {
     "name": "stdout",
     "output_type": "stream",
     "text": [
      "Average Normalized Rating per Name\n",
      "==================================\n",
      "Ace: 0.625\n",
      "Brooklyn: 0.625\n",
      "Caesar: 0.600\n",
      "Doug: 0.583\n",
      "Edgar: 0.500\n",
      "\n",
      "Average Normalized Rating per Movie\n",
      "===================================\n",
      "Demon Slayer: 0.700\n",
      "Kpop Demon Hunters: 0.583\n",
      "Avatar: 0.375\n",
      "Hamilton: 0.625\n",
      "Joker: 0.600\n"
     ]
    }
   ],
   "source": [
    "# Calculate averages for normalized data\n",
    "norm_name_means = normalized_df.mean(axis=1)\n",
    "norm_movie_means = normalized_df.mean(axis=0)\n",
    "\n",
    "print(\"Average Normalized Rating per Name\")\n",
    "print(\"=\" *34)\n",
    "for name, avg_rating in norm_name_means.items():\n",
    "    print(f\"{name}: {avg_rating:.3f}\")\n",
    "\n",
    "print(\"\\nAverage Normalized Rating per Movie\")\n",
    "print(\"=\" *35)\n",
    "for movie, avg_rating in norm_movie_means.items():\n",
    "    print(f\"{movie}: {avg_rating:.3f}\")"
   ]
  },
  {
   "cell_type": "markdown",
   "id": "de4faffc",
   "metadata": {},
   "source": [
    "After normalization, averages show how each user rated relative to their personal scale.\n",
    "For instance, if someone’s highest and lowest ratings are both high (like 5 and 4), their normalized ratings still range from 0 to 1 — showing relative preferences, not absolute enthusiasm."
   ]
  },
  {
   "cell_type": "markdown",
   "id": "e7440467",
   "metadata": {},
   "source": [
    "ADVANTAGES of Normalized Ratings:\n",
    "\n",
    "1. **Eliminates Individual Rating Bias**: Our data shows names like Ace and Caesar had different rating scales. \n",
    "   Normalization removes these personal tendencies and puts everyone on the same 0-1 scale.\n",
    "\n",
    "2. **Better Cross-Name Comparability**: With normalized ratings, we can directly compare preferences \n",
    "   across people regardless of whether they are harsh or lenient raters. All names now have comparable averages.\n",
    "\n",
    "3. **Focus on Relative Preferences**: Normalization highlights which movies a person prefers \n",
    "   relative to their own rating pattern. For example, Doug strongly preferred Avatar (1.0) over other films.\n",
    "   \n",
    "DISADVANTAGES of Normalized Ratings:\n",
    "\n",
    "1. **Loss of Absolute Meaning**: Avatar's normalized average of 0.375 doesn't tell us if the movie \n",
    "   is actually poor or just less preferred compared to other options.\n",
    "\n",
    "2. **Amplifies Small Differences**: Small absolute rating differences become large normalized gaps, \n",
    "   potentially overemphasizing minor preference variations.\n",
    "\n",
    "3. **Interpretation Difficulty**: Normalized scores (0-1) are less intuitive than \n",
    "   traditional 1-5 star ratings for most users."
   ]
  },
  {
   "cell_type": "code",
   "execution_count": 143,
   "id": "10497481",
   "metadata": {},
   "outputs": [
    {
     "name": "stdout",
     "output_type": "stream",
     "text": [
      "Standardized Ratings\n",
      "====================================================================\n",
      "          Demon Slayer  Kpop Demon Hunters  Avatar  Hamilton  Joker\n",
      "Name                                                               \n",
      "Ace              0.783              -0.261     NaN    -1.306  0.783\n",
      "Brooklyn         0.783                 NaN  -1.306     0.783 -0.261\n",
      "Caesar          -1.434               0.956  -0.239     0.956 -0.239\n",
      "Doug             0.833              -0.500   0.833       NaN -1.167\n",
      "Edgar            0.000               0.000  -1.414     0.000  1.414\n"
     ]
    }
   ],
   "source": [
    "def standardize_name_ratings(name_ratings):\n",
    "   \n",
    "    mean_rating = name_ratings.mean()\n",
    "    std_rating = name_ratings.std()\n",
    "    \n",
    "    standardized = (name_ratings - mean_rating) / std_rating\n",
    "    return standardized\n",
    "\n",
    "# Apply standardization\n",
    "standardized_df = df.apply(standardize_name_ratings, axis=1)\n",
    "\n",
    "print(f\"Standardized Ratings\")\n",
    "print(\"=\" *68)\n",
    "print(standardized_df.round(3))\n",
    "\n",
    "# Calculate averages for standardized data\n",
    "std_name_means = standardized_df.mean(axis=1)\n",
    "std_movie_means = standardized_df.mean(axis=0)\n",
    "\n"
   ]
  },
  {
   "cell_type": "markdown",
   "id": "bf84f600",
   "metadata": {},
   "source": [
    "Standardization converts each user’s ratings into z-scores.\n",
    "A z-score shows how far each rating deviates from the user’s mean rating, measured in standard deviations.\n",
    "This transformation centers each user’s ratings around 0, with positive values for above-average ratings and negative for below-average ones."
   ]
  },
  {
   "cell_type": "code",
   "execution_count": null,
   "id": "0bde3af0",
   "metadata": {},
   "outputs": [
    {
     "name": "stdout",
     "output_type": "stream",
     "text": [
      "Average Standardized Rating per Name\n",
      "====================================\n",
      "   Ace: 0.000\n",
      "   Brooklyn: 0.000\n",
      "   Caesar: -0.000\n",
      "   Doug: 0.000\n",
      "   Edgar: 0.000\n",
      "\n",
      "Average Standardized Rating per Movie\n",
      "=====================================\n",
      "   Demon Slayer: 0.193\n",
      "   Kpop Demon Hunters: 0.049\n",
      "   Avatar: -0.531\n",
      "   Hamilton: 0.108\n",
      "   Joker: 0.106\n"
     ]
    }
   ],
   "source": [
    "print(\"Average Standardized Rating per Name\")\n",
    "print(\"=\" *36)\n",
    "for name, avg_rating in std_name_means.items():\n",
    "    print(f\"   {name}: {avg_rating:.3f}\")\n",
    "\n",
    "print(\"\\nAverage Standardized Rating per Movie\")\n",
    "print(\"=\" *37)\n",
    "for movie, avg_rating in std_movie_means.items():\n",
    "    print(f\"   {movie}: {avg_rating:.3f}\")"
   ]
  },
  {
   "cell_type": "markdown",
   "id": "e1395054",
   "metadata": {},
   "source": [
    "Averages of standardized data are close to zero for each user (as expected for z-scores).\n",
    "This confirms that ratings are now centered on each user’s personal mean, eliminating differences in rating scale or bias."
   ]
  },
  {
   "cell_type": "markdown",
   "id": "2415935e",
   "metadata": {},
   "source": [
    "ADVANTAGES of Standardized Ratings:\n",
    "\n",
    "1. **Centers All Ratings Around Zero**: Every person now has an average rating of exactly 0.000, \n",
    "   completely eliminating individual rating bias and making direct comparisons meaningful.\n",
    "\n",
    "2. **Preserves Relative Rating Patterns**: While centering the data, standardization maintains \n",
    "   each person's unique rating distribution, showing how extreme their preferences are relative to their own average.\n",
    "\n",
    "3. **Identifies True Outliers**: Positive scores indicate above-average preference for that person, \n",
    "   while negative scores show below-average ratings. For example, Edgar's Joker rating (1.414) stands out as a strong positive preference.\n",
    "\n",
    "DISADVANTAGES of Standardized Ratings:\n",
    "\n",
    "1. **Difficult Interpretation for Non-Technical Users**: Z-scores like 0.783 or -1.306 are \n",
    "   not intuitive and hard for most people to understand compared to simple 1-5 star ratings.\n",
    "\n",
    "2. **Amplifies Rating Consistency Issues**: People with very consistent rating patterns \n",
    "   (small standard deviation) can have artificially inflated z-scores for small absolute differences.\n",
    "\n",
    "3. **Loses Absolute Benchmarking**: We can no longer tell if a movie is generally \"good\" or \"bad\" - \n",
    "   we only know if it's better or worse than that particular person's average rating."
   ]
  }
 ],
 "metadata": {
  "kernelspec": {
   "display_name": "Python 3",
   "language": "python",
   "name": "python3"
  },
  "language_info": {
   "codemirror_mode": {
    "name": "ipython",
    "version": 3
   },
   "file_extension": ".py",
   "mimetype": "text/x-python",
   "name": "python",
   "nbconvert_exporter": "python",
   "pygments_lexer": "ipython3",
   "version": "3.12.10"
  }
 },
 "nbformat": 4,
 "nbformat_minor": 5
}
