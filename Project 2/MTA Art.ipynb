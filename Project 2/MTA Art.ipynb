{
 "cells": [
  {
   "cell_type": "markdown",
   "id": "d33c69af",
   "metadata": {},
   "source": [
    "# Analysis of MTA Permanent Art Collection\n",
    "\n",
    "## Introduction\n",
    "The MTA Permanent Art Program features hundreds of artworks across New York City subway stations.  \n",
    "In this analysis, I will clean the dataset and explore three main questions:  \n",
    "1. Which subway lines have the most artworks?  \n",
    "2. Which artists appear most often?  \n",
    "3. What materials are most commonly used by decade?"
   ]
  },
  {
   "cell_type": "code",
   "execution_count": null,
   "id": "9ba1bfbf",
   "metadata": {},
   "outputs": [],
   "source": [
    "import pandas as pd\n",
    "import seaborn as sns\n",
    "import matplotlib.pyplot as plt\n",
    "import re \n",
    "import unicodedata\n",
    "\n",
    "# Load dataset\n",
    "df = pd.read_csv(\"MTA_Permanent_Art_Catalog__Beginning_1980_20250927.csv\")\n",
    "df.head()"
   ]
  },
  {
   "cell_type": "markdown",
   "id": "facfb208",
   "metadata": {},
   "source": [
    "## Data Cleaning\n",
    "I started by previewing the dataset to understand its structure. To simplify the analysis, I :\n",
    "\n",
    ">- Dropped columns that were not needed (`Art Title`, `Art Description`, `Art Image Link`)\n",
    "\n",
    ">- Removed duplicates based on Station Name\n",
    "\n",
    ">- Filtered out non-NYCT agencies (Metro-North, LIRR, B&T)\n",
    "\n",
    ">- Standardized text columns to lowercase and removed extra spaces"
   ]
  },
  {
   "cell_type": "code",
   "execution_count": null,
   "id": "7df19f5a",
   "metadata": {},
   "outputs": [],
   "source": [
    "# Drop unwanted columns and remove duplicates/NaNs\n",
    "df = df.drop(columns=[\"Art Title\", \"Art Description\", \"Art Image Link\"])\n",
    "df = df.dropna()\n",
    "df = df.drop_duplicates(subset=[\"Station Name\"])\n",
    "\n",
    "# Remove Metro-North and LIRR entries\n",
    "df = df[~df['Agency'].str.contains('Metro North|LIRR|B&T', case=False)]\n",
    "\n",
    "# Apply strip + lowercase to all object (string) columns\n",
    "for col in df.select_dtypes(include='object').columns:\n",
    "    df[col] = df[col].str.strip().str.lower()\n",
    "\n",
    "df.head()"
   ]
  },
  {
   "cell_type": "markdown",
   "id": "923b1895",
   "metadata": {},
   "source": [
    "## Q1. Which subway lines have the most artworks?  \n",
    "\n",
    "Some artworks appear on multiple lines via shared stations. To count them correctly, I split the `Line` column and expanded the rows so that each line is represented individually. "
   ]
  },
  {
   "cell_type": "code",
   "execution_count": null,
   "id": "d57a7099",
   "metadata": {},
   "outputs": [],
   "source": [
    "df = df.assign(Line=df['Line'].str.split(',')).explode('Line')\n",
    "df['Line'] = df['Line'].str.strip()\n",
    "df = df.dropna(subset=[\"Line\"])\n",
    "\n",
    "df.head()"
   ]
  },
  {
   "cell_type": "markdown",
   "id": "b391fad2",
   "metadata": {},
   "source": [
    "Next, I counted artworks per line and plotted the top 10 lines."
   ]
  },
  {
   "cell_type": "code",
   "execution_count": null,
   "id": "a9ad75a7",
   "metadata": {},
   "outputs": [],
   "source": [
    "# Top 10 MTA lines\n",
    "top10_lines = df[\"Line\"].value_counts().head(10).index\n",
    "df_top10 = df[df[\"Line\"].isin(top10_lines)]\n",
    "\n",
    "# Plot top 10 lines\n",
    "plt.figure(figsize=(15,6))\n",
    "sns.countplot(\n",
    "    data=df_top10, \n",
    "    x=\"Line\", \n",
    "    order=top10_lines\n",
    ")\n",
    "plt.title(\"Top 20 MTA Lines by Number of Artworks\", fontsize=16, weight=\"bold\")\n",
    "plt.xlabel(\"MTA Line\", fontsize=12)\n",
    "plt.ylabel(\"Count of Artworks\", fontsize=12)\n",
    "plt.tight_layout()\n",
    "plt.show()"
   ]
  },
  {
   "cell_type": "markdown",
   "id": "3495100b",
   "metadata": {},
   "source": [
    "### Findings:\n",
    "The lines with the most artworks are **2, 5, 6, Q, and 3**. These are among the busiest subway routes, which explains the higher concentration of public art in stations along these lines. The distribution of artworks is clearly uneven, with major transfer points and high-traffic stations featuring more art."
   ]
  },
  {
   "cell_type": "markdown",
   "id": "9fa47641",
   "metadata": {},
   "source": [
    "## Q2. Which artists have the most artworks?  \n",
    "\n",
    "To analyze contributions by artist, I cleaned the `Artist` column by normalizing special characters, splitting collaborative names, and exploding them into separate rows. \n"
   ]
  },
  {
   "cell_type": "code",
   "execution_count": null,
   "id": "8238e65c",
   "metadata": {},
   "outputs": [],
   "source": [
    "# Function to clean text\n",
    "def clean_text(s):\n",
    "    if pd.isna(s):\n",
    "        return \"\"\n",
    "    s = unicodedata.normalize(\"NFKD\", s)\n",
    "    s = s.encode(\"ascii\", \"ignore\").decode(\"utf-8\")\n",
    "    s = re.sub(r\"\\s+\", \" \", s)\n",
    "    s = s.replace(\"&\", \"and\")\n",
    "    return s.strip()\n",
    "\n",
    "# Clean and explode artists\n",
    "df[\"Artist\"] = df[\"Artist\"].apply(clean_text)\n",
    "df[\"Artist\"] = df[\"Artist\"].apply(lambda x: re.split(r\"\\band\\b\", x, flags=re.IGNORECASE))\n",
    "df = df.explode(\"Artist\")\n",
    "df[\"Artist\"] = df[\"Artist\"].str.strip()\n",
    "df = df[df[\"Artist\"] != \"\"]"
   ]
  },
  {
   "cell_type": "markdown",
   "id": "baf4d7c4",
   "metadata": {},
   "source": [
    "I then counted artworks per artist and plotted the top 10 contributors."
   ]
  },
  {
   "cell_type": "code",
   "execution_count": null,
   "id": "da7713af",
   "metadata": {},
   "outputs": [],
   "source": [
    "# Top 10 artists\n",
    "top10_artists = df[\"Artist\"].value_counts().head(10).index\n",
    "\n",
    "plt.figure(figsize=(20,7))\n",
    "sns.countplot(\n",
    "    data=df[df[\"Artist\"].isin(top10_artists)], \n",
    "    x=\"Artist\", \n",
    "    order=top10_artists\n",
    ")\n",
    "plt.title(\"Top 10 Artists by Number of Artworks\", fontsize=16, weight=\"bold\")\n",
    "plt.xlabel(\"Artists\", fontsize=12)\n",
    "plt.ylabel(\"Count of Artworks\", fontsize=12)\n",
    "plt.xticks(rotation=45, ha=\"right\", fontsize=10)\n",
    "plt.yticks(fontsize=10)\n",
    "plt.tight_layout()\n",
    "plt.show()"
   ]
  },
  {
   "cell_type": "markdown",
   "id": "ec3ad20a",
   "metadata": {},
   "source": [
    "### Findings:\n",
    "The most frequent contributors are **Norman B Colp, Jacob Lawrence, Kathleen McCarthy, George Trakas (with di Domenico + Partners), and Michele Oka Doner**. Both individual artists and collaborative design groups have significantly shaped the subway’s artistic identity."
   ]
  },
  {
   "cell_type": "markdown",
   "id": "9fc941ff",
   "metadata": {},
   "source": [
    "## Q3. What materials are most commonly used by decade?  \n",
    "\n",
    "To explore material trends, I first cleaned and standardized the `Art Material` column. Variations like “stainless steel” and “stainless” were unified. Artworks with multiple materials were split so each material could be counted individually.\n"
   ]
  },
  {
   "cell_type": "code",
   "execution_count": null,
   "id": "aebd7d3e",
   "metadata": {},
   "outputs": [],
   "source": [
    "# Function to tidy Art Material column\n",
    "def tidy_material(material_series):\n",
    "    s = material_series.str.lower().str.strip()\n",
    "    s = s.str.replace(r\"\\(.*?\\)\", \"\", regex=True)\n",
    "    s = s.str.replace(r\"(throughout|in passageway|on .*|in .*|with .*|etc\\.)\", \"\", regex=True)\n",
    "    s = s.str.replace(r\"[;/]\", \",\", regex=True)\n",
    "    s = s.str.split(r\",| and \").explode().str.strip()\n",
    "    s = s[s != \"\"]\n",
    "    standard_map = {\n",
    "        \"aluminum - painted\": \"aluminum\",\n",
    "        \"cast aluminum\": \"aluminum\",\n",
    "        \"bronze - hand forged\": \"bronze\",\n",
    "        \"bronze - patinated\": \"bronze\",\n",
    "        \"bronze - polychromed\": \"bronze\",\n",
    "        \"bronze and steel sheet\": \"bronze and steel\",\n",
    "        \"stainless\": \"steel\",\n",
    "        \"stainless steel\": \"steel\",\n",
    "        \"steel with galvinized steel cable\": \"steel\",\n",
    "        \"cast concrete\": \"concrete\",\n",
    "        \"concrete - jesmonite castings\": \"concrete\",\n",
    "        \"faceted glass\": \"glass\",\n",
    "        \"fused glass\": \"glass\",\n",
    "        \"glass mosaic\": \"glass\",\n",
    "        \"laminated glass\": \"glass\",\n",
    "        \"glass blocks\": \"glass\",\n",
    "        \"glass block\": \"glass\",\n",
    "        \"glass, ceramic mosaic\": \"glass and ceramic\",\n",
    "        \"glass and ceramic mosaic\": \"glass and ceramic\",\n",
    "        \"ceramic tile, glass mosaic\": \"ceramic and glass\",\n",
    "        \"ceramic tile, glass mosaic\": \"ceramic and glass\",\n",
    "        \"porcelain enamel murals\": \"porcelain\",\n",
    "        \"porcelain enamel murals on steel\": \"porcelain and steel\",\n",
    "        \"porcelain enamel on steel\": \"porcelain and steel\",\n",
    "        \"porcela\": \"porcelain enamel\",\n",
    "        \"porcelain enamel?\": \"porcelain enamel\",\n",
    "        \"wrought ir\": \"iron\",\n",
    "        \"wrought iron\": \"iron\",\n",
    "        \"stone - etched granite\": \"stone\",\n",
    "        \"stone - absolute black granite\": \"stone\",\n",
    "        \"marble and stone mosaic\": \"marble and stone\",\n",
    "        \"marble mosaic walls\": \"marble\",\n",
    "        \"terracotta\": \"ceramic\",\n",
    "        \"terrazzo floor tile\": \"terrazzo\",\n",
    "        \"zinc-glazed apolycarbonate skylight\": \"zinc-glass\",\n",
    "        \"red clay\": \"clay\",\n",
    "        \"glazes\": \"glaze\",\n",
    "        \"mirrors\": \"mirror\",\n",
    "        \"lighting elements\": \"lighting\",\n",
    "        \"electronic light controllers\": \"lighting\",\n",
    "    }\n",
    "    return s.replace(standard_map).reset_index(drop=True)\n",
    "\n",
    "# Apply tidy_material\n",
    "df = df.assign(**{\"Art Material\": tidy_material(df[\"Art Material\"])})\n",
    "df['Art Material'] = df['Art Material'].str.strip().str.lower()"
   ]
  },
  {
   "cell_type": "code",
   "execution_count": null,
   "id": "3839180a",
   "metadata": {},
   "outputs": [],
   "source": [
    "# Convert Art Date to decade\n",
    "df[\"Art Date\"] = pd.to_numeric(df[\"Art Date\"], errors=\"coerce\")\n",
    "df = df.dropna(subset=[\"Art Date\"])\n",
    "df[\"Decade\"] = (df[\"Art Date\"] // 10 * 10).astype(int)\n",
    "\n",
    "# Count materials per decade\n",
    "material_counts = (\n",
    "    df.groupby([\"Decade\", \"Art Material\"])\n",
    "    .size()\n",
    "    .reset_index(name=\"Count\")\n",
    ")\n",
    "\n",
    "# Rank materials per decade\n",
    "material_counts[\"Rank\"] = material_counts.groupby(\"Decade\")[\"Count\"].rank(method=\"dense\", ascending=False).astype(int)\n",
    "\n",
    "# Keep only top 5 materials per decade\n",
    "top_materials = material_counts[material_counts[\"Rank\"] <= 5]"
   ]
  },
  {
   "cell_type": "code",
   "execution_count": null,
   "id": "1ef6eb22",
   "metadata": {},
   "outputs": [],
   "source": [
    "# Pivot top materials by rank\n",
    "pivot_table = top_materials.pivot_table(\n",
    "    index=\"Decade\",\n",
    "    columns=\"Rank\",\n",
    "    values=\"Art Material\",\n",
    "    aggfunc=\"first\"\n",
    ")\n",
    "\n",
    "# Rename columns\n",
    "pivot_table.columns = [f\"Top {col}\" for col in pivot_table.columns]\n",
    "\n",
    "# Display\n",
    "pivot_table.reset_index()"
   ]
  },
  {
   "cell_type": "markdown",
   "id": "b87ec3e7",
   "metadata": {},
   "source": [
    "The results show clear patterns. In the 1980s and 1990s, materials like **bronze, porcelain, and steel** were commonly used. In the 2000s and 2010s, there was a noticeable increase in the use of **glass and ceramic mosaics**, likely reflecting trends in public art and station design. In the most recent decade, materials like **glass panels and safety glass** appear more frequently, showing a shift towards modern, durable, and visually transparent materials in new artworks."
   ]
  }
 ],
 "metadata": {
  "kernelspec": {
   "display_name": "Python 3",
   "language": "python",
   "name": "python3"
  },
  "language_info": {
   "codemirror_mode": {
    "name": "ipython",
    "version": 3
   },
   "file_extension": ".py",
   "mimetype": "text/x-python",
   "name": "python",
   "nbconvert_exporter": "python",
   "pygments_lexer": "ipython3",
   "version": "3.12.10"
  }
 },
 "nbformat": 4,
 "nbformat_minor": 5
}
