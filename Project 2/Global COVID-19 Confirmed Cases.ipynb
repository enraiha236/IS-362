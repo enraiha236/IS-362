{
 "cells": [
  {
   "cell_type": "markdown",
   "id": "10ee3b9d",
   "metadata": {},
   "source": [
    "# Analysis of Global COVID-19 Confirmed Cases\n",
    "Introduction\n",
    "\n",
    "The dataset time_series_covid19_confirmed_global.csv from Johns Hopkins CSSE contains cumulative confirmed COVID-19 cases globally over time.\n",
    "In this analysis, I will clean and reshape the data, and explore three questions:\n",
    "\n",
    "> 1. How have confirmed cases grown over time globally?\n",
    "\n",
    "> 2. Which countries have had the highest growth in recent months?\n",
    "\n",
    "> 3. What is the day-over-day new cases trend for selected countries?"
   ]
  },
  {
   "cell_type": "code",
   "execution_count": null,
   "id": "4ff31034",
   "metadata": {},
   "outputs": [
    {
     "data": {
      "text/html": [
       "<div>\n",
       "<style scoped>\n",
       "    .dataframe tbody tr th:only-of-type {\n",
       "        vertical-align: middle;\n",
       "    }\n",
       "\n",
       "    .dataframe tbody tr th {\n",
       "        vertical-align: top;\n",
       "    }\n",
       "\n",
       "    .dataframe thead th {\n",
       "        text-align: right;\n",
       "    }\n",
       "</style>\n",
       "<table border=\"1\" class=\"dataframe\">\n",
       "  <thead>\n",
       "    <tr style=\"text-align: right;\">\n",
       "      <th></th>\n",
       "      <th>Province/State</th>\n",
       "      <th>Country/Region</th>\n",
       "      <th>Lat</th>\n",
       "      <th>Long</th>\n",
       "      <th>1/22/20</th>\n",
       "      <th>1/23/20</th>\n",
       "      <th>1/24/20</th>\n",
       "      <th>1/25/20</th>\n",
       "      <th>1/26/20</th>\n",
       "      <th>1/27/20</th>\n",
       "      <th>...</th>\n",
       "      <th>2/28/23</th>\n",
       "      <th>3/1/23</th>\n",
       "      <th>3/2/23</th>\n",
       "      <th>3/3/23</th>\n",
       "      <th>3/4/23</th>\n",
       "      <th>3/5/23</th>\n",
       "      <th>3/6/23</th>\n",
       "      <th>3/7/23</th>\n",
       "      <th>3/8/23</th>\n",
       "      <th>3/9/23</th>\n",
       "    </tr>\n",
       "  </thead>\n",
       "  <tbody>\n",
       "    <tr>\n",
       "      <th>0</th>\n",
       "      <td>NaN</td>\n",
       "      <td>Afghanistan</td>\n",
       "      <td>33.93911</td>\n",
       "      <td>67.709953</td>\n",
       "      <td>0</td>\n",
       "      <td>0</td>\n",
       "      <td>0</td>\n",
       "      <td>0</td>\n",
       "      <td>0</td>\n",
       "      <td>0</td>\n",
       "      <td>...</td>\n",
       "      <td>209322</td>\n",
       "      <td>209340</td>\n",
       "      <td>209358</td>\n",
       "      <td>209362</td>\n",
       "      <td>209369</td>\n",
       "      <td>209390</td>\n",
       "      <td>209406</td>\n",
       "      <td>209436</td>\n",
       "      <td>209451</td>\n",
       "      <td>209451</td>\n",
       "    </tr>\n",
       "    <tr>\n",
       "      <th>1</th>\n",
       "      <td>NaN</td>\n",
       "      <td>Albania</td>\n",
       "      <td>41.15330</td>\n",
       "      <td>20.168300</td>\n",
       "      <td>0</td>\n",
       "      <td>0</td>\n",
       "      <td>0</td>\n",
       "      <td>0</td>\n",
       "      <td>0</td>\n",
       "      <td>0</td>\n",
       "      <td>...</td>\n",
       "      <td>334391</td>\n",
       "      <td>334408</td>\n",
       "      <td>334408</td>\n",
       "      <td>334427</td>\n",
       "      <td>334427</td>\n",
       "      <td>334427</td>\n",
       "      <td>334427</td>\n",
       "      <td>334427</td>\n",
       "      <td>334443</td>\n",
       "      <td>334457</td>\n",
       "    </tr>\n",
       "    <tr>\n",
       "      <th>2</th>\n",
       "      <td>NaN</td>\n",
       "      <td>Algeria</td>\n",
       "      <td>28.03390</td>\n",
       "      <td>1.659600</td>\n",
       "      <td>0</td>\n",
       "      <td>0</td>\n",
       "      <td>0</td>\n",
       "      <td>0</td>\n",
       "      <td>0</td>\n",
       "      <td>0</td>\n",
       "      <td>...</td>\n",
       "      <td>271441</td>\n",
       "      <td>271448</td>\n",
       "      <td>271463</td>\n",
       "      <td>271469</td>\n",
       "      <td>271469</td>\n",
       "      <td>271477</td>\n",
       "      <td>271477</td>\n",
       "      <td>271490</td>\n",
       "      <td>271494</td>\n",
       "      <td>271496</td>\n",
       "    </tr>\n",
       "    <tr>\n",
       "      <th>3</th>\n",
       "      <td>NaN</td>\n",
       "      <td>Andorra</td>\n",
       "      <td>42.50630</td>\n",
       "      <td>1.521800</td>\n",
       "      <td>0</td>\n",
       "      <td>0</td>\n",
       "      <td>0</td>\n",
       "      <td>0</td>\n",
       "      <td>0</td>\n",
       "      <td>0</td>\n",
       "      <td>...</td>\n",
       "      <td>47866</td>\n",
       "      <td>47875</td>\n",
       "      <td>47875</td>\n",
       "      <td>47875</td>\n",
       "      <td>47875</td>\n",
       "      <td>47875</td>\n",
       "      <td>47875</td>\n",
       "      <td>47875</td>\n",
       "      <td>47890</td>\n",
       "      <td>47890</td>\n",
       "    </tr>\n",
       "    <tr>\n",
       "      <th>4</th>\n",
       "      <td>NaN</td>\n",
       "      <td>Angola</td>\n",
       "      <td>-11.20270</td>\n",
       "      <td>17.873900</td>\n",
       "      <td>0</td>\n",
       "      <td>0</td>\n",
       "      <td>0</td>\n",
       "      <td>0</td>\n",
       "      <td>0</td>\n",
       "      <td>0</td>\n",
       "      <td>...</td>\n",
       "      <td>105255</td>\n",
       "      <td>105277</td>\n",
       "      <td>105277</td>\n",
       "      <td>105277</td>\n",
       "      <td>105277</td>\n",
       "      <td>105277</td>\n",
       "      <td>105277</td>\n",
       "      <td>105277</td>\n",
       "      <td>105288</td>\n",
       "      <td>105288</td>\n",
       "    </tr>\n",
       "  </tbody>\n",
       "</table>\n",
       "<p>5 rows × 1147 columns</p>\n",
       "</div>"
      ],
      "text/plain": [
       "  Province/State Country/Region       Lat       Long  1/22/20  1/23/20  \\\n",
       "0            NaN    Afghanistan  33.93911  67.709953        0        0   \n",
       "1            NaN        Albania  41.15330  20.168300        0        0   \n",
       "2            NaN        Algeria  28.03390   1.659600        0        0   \n",
       "3            NaN        Andorra  42.50630   1.521800        0        0   \n",
       "4            NaN         Angola -11.20270  17.873900        0        0   \n",
       "\n",
       "   1/24/20  1/25/20  1/26/20  1/27/20  ...  2/28/23  3/1/23  3/2/23  3/3/23  \\\n",
       "0        0        0        0        0  ...   209322  209340  209358  209362   \n",
       "1        0        0        0        0  ...   334391  334408  334408  334427   \n",
       "2        0        0        0        0  ...   271441  271448  271463  271469   \n",
       "3        0        0        0        0  ...    47866   47875   47875   47875   \n",
       "4        0        0        0        0  ...   105255  105277  105277  105277   \n",
       "\n",
       "   3/4/23  3/5/23  3/6/23  3/7/23  3/8/23  3/9/23  \n",
       "0  209369  209390  209406  209436  209451  209451  \n",
       "1  334427  334427  334427  334427  334443  334457  \n",
       "2  271469  271477  271477  271490  271494  271496  \n",
       "3   47875   47875   47875   47875   47890   47890  \n",
       "4  105277  105277  105277  105277  105288  105288  \n",
       "\n",
       "[5 rows x 1147 columns]"
      ]
     },
     "execution_count": 44,
     "metadata": {},
     "output_type": "execute_result"
    }
   ],
   "source": [
    "import pandas as pd\n",
    "import matplotlib.pyplot as plt\n",
    "import seaborn as sns\n",
    "\n",
    "url = (\"https://raw.githubusercontent.com/CSSEGISandData/COVID-19/master/csse_covid_19_data/csse_covid_19_time_series/time_series_covid19_confirmed_global.csv\")\n",
    "df = pd.read_csv(url)\n",
    "df.head()"
   ]
  },
  {
   "cell_type": "markdown",
   "id": "e1695801",
   "metadata": {},
   "source": [
    "I started by loading the Johns Hopkins COVID-19 confirmed cases dataset. This dataset tracks cumulative confirmed cases worldwide from January 2020 onward, broken down by province/state and country/region."
   ]
  },
  {
   "cell_type": "code",
   "execution_count": 45,
   "id": "5cf906a2",
   "metadata": {},
   "outputs": [
    {
     "data": {
      "text/html": [
       "<div>\n",
       "<style scoped>\n",
       "    .dataframe tbody tr th:only-of-type {\n",
       "        vertical-align: middle;\n",
       "    }\n",
       "\n",
       "    .dataframe tbody tr th {\n",
       "        vertical-align: top;\n",
       "    }\n",
       "\n",
       "    .dataframe thead th {\n",
       "        text-align: right;\n",
       "    }\n",
       "</style>\n",
       "<table border=\"1\" class=\"dataframe\">\n",
       "  <thead>\n",
       "    <tr style=\"text-align: right;\">\n",
       "      <th></th>\n",
       "      <th>Province/State</th>\n",
       "      <th>Country/Region</th>\n",
       "      <th>Lat</th>\n",
       "      <th>Long</th>\n",
       "      <th>date</th>\n",
       "      <th>cases</th>\n",
       "    </tr>\n",
       "  </thead>\n",
       "  <tbody>\n",
       "    <tr>\n",
       "      <th>0</th>\n",
       "      <td>NaN</td>\n",
       "      <td>Afghanistan</td>\n",
       "      <td>33.93911</td>\n",
       "      <td>67.709953</td>\n",
       "      <td>2020-01-22</td>\n",
       "      <td>0</td>\n",
       "    </tr>\n",
       "    <tr>\n",
       "      <th>1</th>\n",
       "      <td>NaN</td>\n",
       "      <td>Albania</td>\n",
       "      <td>41.15330</td>\n",
       "      <td>20.168300</td>\n",
       "      <td>2020-01-22</td>\n",
       "      <td>0</td>\n",
       "    </tr>\n",
       "    <tr>\n",
       "      <th>2</th>\n",
       "      <td>NaN</td>\n",
       "      <td>Algeria</td>\n",
       "      <td>28.03390</td>\n",
       "      <td>1.659600</td>\n",
       "      <td>2020-01-22</td>\n",
       "      <td>0</td>\n",
       "    </tr>\n",
       "    <tr>\n",
       "      <th>3</th>\n",
       "      <td>NaN</td>\n",
       "      <td>Andorra</td>\n",
       "      <td>42.50630</td>\n",
       "      <td>1.521800</td>\n",
       "      <td>2020-01-22</td>\n",
       "      <td>0</td>\n",
       "    </tr>\n",
       "    <tr>\n",
       "      <th>4</th>\n",
       "      <td>NaN</td>\n",
       "      <td>Angola</td>\n",
       "      <td>-11.20270</td>\n",
       "      <td>17.873900</td>\n",
       "      <td>2020-01-22</td>\n",
       "      <td>0</td>\n",
       "    </tr>\n",
       "  </tbody>\n",
       "</table>\n",
       "</div>"
      ],
      "text/plain": [
       "  Province/State Country/Region       Lat       Long       date  cases\n",
       "0            NaN    Afghanistan  33.93911  67.709953 2020-01-22      0\n",
       "1            NaN        Albania  41.15330  20.168300 2020-01-22      0\n",
       "2            NaN        Algeria  28.03390   1.659600 2020-01-22      0\n",
       "3            NaN        Andorra  42.50630   1.521800 2020-01-22      0\n",
       "4            NaN         Angola -11.20270  17.873900 2020-01-22      0"
      ]
     },
     "execution_count": 45,
     "metadata": {},
     "output_type": "execute_result"
    }
   ],
   "source": [
    "df_long = df.melt(\n",
    "    id_vars=[\"Province/State\", \"Country/Region\", \"Lat\", \"Long\"],\n",
    "    var_name=\"date\",\n",
    "    value_name=\"cases\"\n",
    ")\n",
    "# Convert date from string to datetime\n",
    "df_long['date'] = pd.to_datetime(df_long['date'], format='%m/%d/%y')\n",
    "df_long.head()"
   ]
  },
  {
   "cell_type": "markdown",
   "id": "4d7b4f8e",
   "metadata": {},
   "source": [
    "I reshaped the dataset from wide format (with one column per date) to long format, where each row represents a single country on a specific date. I also converted the date column to proper datetime format, specifying the exact format (%m/%d/%y)."
   ]
  },
  {
   "cell_type": "markdown",
   "id": "a86551dc",
   "metadata": {},
   "source": [
    "# Question 1: What was the global trend of cases over time?"
   ]
  },
  {
   "cell_type": "code",
   "execution_count": 46,
   "id": "81bef2cd",
   "metadata": {},
   "outputs": [],
   "source": [
    "global_ts = df_long.groupby('date')['cases'].sum().reset_index()"
   ]
  },
  {
   "cell_type": "markdown",
   "id": "7c0f0e09",
   "metadata": {},
   "source": [
    "I summed cases across all countries for each date and plotted the global growth curve."
   ]
  },
  {
   "cell_type": "code",
   "execution_count": 47,
   "id": "7243c973",
   "metadata": {},
   "outputs": [
    {
     "data": {
      "image/png": "[encoded data removed]",
      "text/plain": [
       "<Figure size 1200x600 with 1 Axes>"
      ]
     },
     "metadata": {},
     "output_type": "display_data"
    }
   ],
   "source": [
    "plt.figure(figsize=(12,6))\n",
    "sns.lineplot(data=global_ts, x='date', y='cases')\n",
    "plt.title(\"Global Cumulative Confirmed COVID-19 Cases Over Time\")\n",
    "plt.xlabel(\"Date\")\n",
    "plt.ylabel(\"Confirmed Cases\")\n",
    "plt.show()"
   ]
  },
  {
   "cell_type": "markdown",
   "id": "a9d89cfc",
   "metadata": {},
   "source": [
    "**Answer:** The chart highlights the slow rise during 2020, a steady increase in 2021, a sudden surge in 2022, with the rate stabilizing in 2023."
   ]
  },
  {
   "cell_type": "markdown",
   "id": "d38c10ba",
   "metadata": {},
   "source": [
    "# Question 2: Which 5 countries had the highest rate of spread by March 2021?"
   ]
  },
  {
   "cell_type": "code",
   "execution_count": 48,
   "id": "03f218f4",
   "metadata": {},
   "outputs": [],
   "source": [
    "# Define cutoff date\n",
    "cutoff_date = \"2021-03-31\"\n",
    "\n",
    "# Make a copy when filtering\n",
    "df_cutoff = df_long[df_long[\"date\"] <= cutoff_date].copy()\n",
    "\n",
    "# Calculate daily new cases by country\n",
    "df_cutoff[\"new_cases\"] = df_cutoff.groupby(\"Country/Region\")[\"cases\"].diff().fillna(0)\n",
    "\n",
    "# Calculate average daily new cases for each country\n",
    "avg_spread = (\n",
    "    df_cutoff.groupby(\"Country/Region\")[\"new_cases\"]\n",
    "    .mean()\n",
    "    .round(2)\n",
    "    .sort_values(ascending=False)\n",
    "    .head(5)\n",
    ")"
   ]
  },
  {
   "cell_type": "markdown",
   "id": "fa30de0c",
   "metadata": {},
   "source": [
    "I calculated the average daily new cases for each country up to the end of March 2021 and identified the countries with the highest spread."
   ]
  },
  {
   "cell_type": "code",
   "execution_count": 49,
   "id": "f64a94a0",
   "metadata": {},
   "outputs": [
    {
     "data": {
      "text/plain": [
       "Country/Region\n",
       "US        70297.66\n",
       "Brazil    29341.13\n",
       "India     28095.78\n",
       "Russia    10331.57\n",
       "Italy      8241.15\n",
       "Name: new_cases, dtype: float64"
      ]
     },
     "execution_count": 49,
     "metadata": {},
     "output_type": "execute_result"
    }
   ],
   "source": [
    "avg_spread"
   ]
  },
  {
   "cell_type": "markdown",
   "id": "5f59b62d",
   "metadata": {},
   "source": [
    "**Answer:** The five countries with the highest average daily new cases by March 2021 were the US, Brazil, India, Russia, and Italy, with the US leading at over 70,000 cases per day on average."
   ]
  },
  {
   "cell_type": "markdown",
   "id": "4c3eb0f5",
   "metadata": {},
   "source": [
    "# Question 3: Which months had the highest increases in global cases?"
   ]
  },
  {
   "cell_type": "code",
   "execution_count": 50,
   "id": "5f10c3db",
   "metadata": {},
   "outputs": [],
   "source": [
    "# Create a 'year-month' column\n",
    "df_long[\"year_month\"] = df_long[\"date\"].dt.to_period(\"M\")\n",
    "\n",
    "# Calculate daily new cases\n",
    "df_long[\"new_cases\"] = df_long.groupby(\"Country/Region\")[\"cases\"].diff().fillna(0)\n",
    "\n",
    "# Aggregate new cases by month globally\n",
    "monthly_cases = df_long.groupby(\"year_month\")[\"new_cases\"].sum().reset_index()"
   ]
  },
  {
   "cell_type": "markdown",
   "id": "775505aa",
   "metadata": {},
   "source": [
    "I aggregated daily new cases across all countries by month to identify periods with the largest global increases."
   ]
  },
  {
   "cell_type": "code",
   "execution_count": 51,
   "id": "cc881398",
   "metadata": {},
   "outputs": [
    {
     "data": {
      "text/html": [
       "<div>\n",
       "<style scoped>\n",
       "    .dataframe tbody tr th:only-of-type {\n",
       "        vertical-align: middle;\n",
       "    }\n",
       "\n",
       "    .dataframe tbody tr th {\n",
       "        vertical-align: top;\n",
       "    }\n",
       "\n",
       "    .dataframe thead th {\n",
       "        text-align: right;\n",
       "    }\n",
       "</style>\n",
       "<table border=\"1\" class=\"dataframe\">\n",
       "  <thead>\n",
       "    <tr style=\"text-align: right;\">\n",
       "      <th></th>\n",
       "      <th>year_month</th>\n",
       "      <th>new_cases</th>\n",
       "    </tr>\n",
       "  </thead>\n",
       "  <tbody>\n",
       "    <tr>\n",
       "      <th>24</th>\n",
       "      <td>2022-01</td>\n",
       "      <td>87136808.0</td>\n",
       "    </tr>\n",
       "    <tr>\n",
       "      <th>25</th>\n",
       "      <td>2022-02</td>\n",
       "      <td>56846495.0</td>\n",
       "    </tr>\n",
       "    <tr>\n",
       "      <th>26</th>\n",
       "      <td>2022-03</td>\n",
       "      <td>48874576.0</td>\n",
       "    </tr>\n",
       "    <tr>\n",
       "      <th>30</th>\n",
       "      <td>2022-07</td>\n",
       "      <td>28210775.0</td>\n",
       "    </tr>\n",
       "    <tr>\n",
       "      <th>23</th>\n",
       "      <td>2021-12</td>\n",
       "      <td>24919496.0</td>\n",
       "    </tr>\n",
       "  </tbody>\n",
       "</table>\n",
       "</div>"
      ],
      "text/plain": [
       "   year_month   new_cases\n",
       "24    2022-01  87136808.0\n",
       "25    2022-02  56846495.0\n",
       "26    2022-03  48874576.0\n",
       "30    2022-07  28210775.0\n",
       "23    2021-12  24919496.0"
      ]
     },
     "execution_count": 51,
     "metadata": {},
     "output_type": "execute_result"
    }
   ],
   "source": [
    "# Get top 5 months with the highest increases\n",
    "top_months = monthly_cases.sort_values(by=\"new_cases\", ascending=False).head(5)\n",
    "top_months"
   ]
  },
  {
   "cell_type": "markdown",
   "id": "5b1b7488",
   "metadata": {},
   "source": [
    "I summed the global new cases by month and sorted them to identify periods with the largest increases.\n",
    "\n",
    "**Answer:** The five months with the highest global increases in COVID-19 cases were January 2022, February 2022, March 2022, July 2022, and December 2021, with January 2022 experiencing the largest surge at over 87 million new cases."
   ]
  }
 ],
 "metadata": {
  "kernelspec": {
   "display_name": "Python 3",
   "language": "python",
   "name": "python3"
  },
  "language_info": {
   "codemirror_mode": {
    "name": "ipython",
    "version": 3
   },
   "file_extension": ".py",
   "mimetype": "text/x-python",
   "name": "python",
   "nbconvert_exporter": "python",
   "pygments_lexer": "ipython3",
   "version": "3.12.10"
  }
 },
 "nbformat": 4,
 "nbformat_minor": 5
}
