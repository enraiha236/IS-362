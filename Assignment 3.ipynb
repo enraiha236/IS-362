{
 "cells": [
  {
   "cell_type": "markdown",
   "id": "5547650e",
   "metadata": {},
   "source": [
    "# Biking from NYC to Key West Log"
   ]
  },
  {
   "cell_type": "markdown",
   "id": "5b69617b",
   "metadata": {},
   "source": [
    "Import Pandas"
   ]
  },
  {
   "cell_type": "code",
   "execution_count": 19,
   "id": "8a07c188",
   "metadata": {},
   "outputs": [],
   "source": [
    "import pandas as pd"
   ]
  },
  {
   "cell_type": "markdown",
   "id": "7796cc43",
   "metadata": {},
   "source": [
    "Cumulative Miles Biked"
   ]
  },
  {
   "cell_type": "code",
   "execution_count": 20,
   "id": "45e0feff",
   "metadata": {},
   "outputs": [],
   "source": [
    "#raw data for cumulative miles\n",
    "cumulative_miles = pd.Series([55, 120, 185, 250, 315, 380, 445, 510, 575, 640, 705, 770, 835, 900, 965, 1030, 1095, 1160, 1225, 1290, 1355, 1420, 1485, 1550, 1600])"
   ]
  },
  {
   "cell_type": "markdown",
   "id": "097944be",
   "metadata": {},
   "source": [
    "Daily Miles Biked"
   ]
  },
  {
   "cell_type": "code",
   "execution_count": 21,
   "id": "441d4c4b",
   "metadata": {},
   "outputs": [],
   "source": [
    "#calculate daily miles biked from cumulative miles\n",
    "daily_miles = cumulative_miles.diff().fillna(cumulative_miles.iloc[0])"
   ]
  },
  {
   "cell_type": "markdown",
   "id": "dfa54b11",
   "metadata": {},
   "source": [
    "Table for Miles Biked"
   ]
  },
  {
   "cell_type": "code",
   "execution_count": 22,
   "id": "8a977549",
   "metadata": {},
   "outputs": [
    {
     "name": "stdout",
     "output_type": "stream",
     "text": [
      "        Cumulative Miles  Daily Miles\n",
      "Day 1                 55         55.0\n",
      "Day 2                120         65.0\n",
      "Day 3                185         65.0\n",
      "Day 4                250         65.0\n",
      "Day 5                315         65.0\n",
      "Day 6                380         65.0\n",
      "Day 7                445         65.0\n",
      "Day 8                510         65.0\n",
      "Day 9                575         65.0\n",
      "Day 10               640         65.0\n",
      "Day 11               705         65.0\n",
      "Day 12               770         65.0\n",
      "Day 13               835         65.0\n",
      "Day 14               900         65.0\n",
      "Day 15               965         65.0\n",
      "Day 16              1030         65.0\n",
      "Day 17              1095         65.0\n",
      "Day 18              1160         65.0\n",
      "Day 19              1225         65.0\n",
      "Day 20              1290         65.0\n",
      "Day 21              1355         65.0\n",
      "Day 22              1420         65.0\n",
      "Day 23              1485         65.0\n",
      "Day 24              1550         65.0\n",
      "Day 25              1600         50.0\n"
     ]
    }
   ],
   "source": [
    "miles_biked = pd.DataFrame({\n",
    "    \"Cumulative Miles\": cumulative_miles,\n",
    "    \"Daily Miles\": daily_miles\n",
    "})\n",
    "\n",
    "#Changes column to Day Index\n",
    "miles_biked.index = [f\"Day {i+1}\" for i in range (len(miles_biked))]\n",
    "\n",
    "print (miles_biked)"
   ]
  }
 ],
 "metadata": {
  "kernelspec": {
   "display_name": "Python 3",
   "language": "python",
   "name": "python3"
  },
  "language_info": {
   "codemirror_mode": {
    "name": "ipython",
    "version": 3
   },
   "file_extension": ".py",
   "mimetype": "text/x-python",
   "name": "python",
   "nbconvert_exporter": "python",
   "pygments_lexer": "ipython3",
   "version": "3.12.10"
  }
 },
 "nbformat": 4,
 "nbformat_minor": 5
}
