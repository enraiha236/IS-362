{
 "cells": [
  {
   "cell_type": "markdown",
   "id": "5b69617b",
   "metadata": {},
   "source": [
    "Import Pandas"
   ]
  },
  {
   "cell_type": "code",
   "execution_count": null,
   "id": "8a07c188",
   "metadata": {},
   "outputs": [],
   "source": [
    "import pandas as pd"
   ]
  },
  {
   "cell_type": "markdown",
   "id": "7796cc43",
   "metadata": {},
   "source": [
    "Daily Cumulative Miles"
   ]
  },
  {
   "cell_type": "code",
   "execution_count": null,
   "id": "45e0feff",
   "metadata": {},
   "outputs": [],
   "source": [
    "cumulative_miles = pd.Series([55, 120, 185, 250, 315, 380, 445, 510, 575, 640, 705, 770, 835, 900, 965, 1030, 1095, 1160, 1225, 1290, 1355, 1420, 1485, 1550, 1600])"
   ]
  }
 ],
 "metadata": {
  "kernelspec": {
   "display_name": "Python 3",
   "language": "python",
   "name": "python3"
  },
  "language_info": {
   "name": "python",
   "version": "3.12.10"
  }
 },
 "nbformat": 4,
 "nbformat_minor": 5
}
